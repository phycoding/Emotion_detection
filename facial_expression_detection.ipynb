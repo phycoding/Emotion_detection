{
  "nbformat": 4,
  "nbformat_minor": 0,
  "metadata": {
    "colab": {
      "name": "facial_expression_detection.ipynb",
      "provenance": [],
      "mount_file_id": "1L2R5hths34w_fclfs1gvrBlB_D1ktrME",
      "authorship_tag": "ABX9TyPlGIBwxfcTC3IhYQG6D7q5",
      "include_colab_link": true
    },
    "kernelspec": {
      "name": "python3",
      "display_name": "Python 3"
    },
    "language_info": {
      "name": "python"
    },
    "accelerator": "GPU"
  },
  "cells": [
    {
      "cell_type": "markdown",
      "metadata": {
        "id": "view-in-github",
        "colab_type": "text"
      },
      "source": [
        "<a href=\"https://colab.research.google.com/github/phycoding/Emotion_detection/blob/main/facial_expression_detection.ipynb\" target=\"_parent\"><img src=\"https://colab.research.google.com/assets/colab-badge.svg\" alt=\"Open In Colab\"/></a>"
      ]
    },
    {
      "cell_type": "markdown",
      "metadata": {
        "id": "X4DFpGqyyPIS"
      },
      "source": [
        "Load Keggle dataset by the following methoad and explore the facial expression dataset."
      ]
    },
    {
      "cell_type": "code",
      "metadata": {
        "id": "kjJVYCU3j_t4"
      },
      "source": [
        ""
      ],
      "execution_count": null,
      "outputs": []
    },
    {
      "cell_type": "code",
      "metadata": {
        "colab": {
          "base_uri": "https://localhost:8080/"
        },
        "id": "TXl52ff5ykWn",
        "outputId": "04f77642-c085-4b84-9013-66e6e6648f5e"
      },
      "source": [
        "from google.colab import drive\n",
        "drive.mount('/gdrive')"
      ],
      "execution_count": null,
      "outputs": [
        {
          "output_type": "stream",
          "text": [
            "Mounted at /gdrive\n"
          ],
          "name": "stdout"
        }
      ]
    },
    {
      "cell_type": "code",
      "metadata": {
        "colab": {
          "base_uri": "https://localhost:8080/"
        },
        "id": "_4kWvYP6ykW9",
        "outputId": "cef89216-f89f-4c17-9d0a-3eb8616f95cb"
      },
      "source": [
        "with open('/gdrive/My Drive/foo.txt', 'w') as f:\n",
        "  f.write('Hello Google Drive!')\n",
        "!cat '/gdrive/My Drive/foo.txt'"
      ],
      "execution_count": null,
      "outputs": [
        {
          "output_type": "stream",
          "text": [
            "Hello Google Drive!"
          ],
          "name": "stdout"
        }
      ]
    },
    {
      "cell_type": "code",
      "metadata": {
        "id": "IC7izPKOy17K"
      },
      "source": [
        "import os\n",
        "os.environ['KAGGLE_CONFIG_DIR'] = \"/content/drive/MyDrive/kaggle\""
      ],
      "execution_count": null,
      "outputs": []
    },
    {
      "cell_type": "code",
      "metadata": {
        "colab": {
          "base_uri": "https://localhost:8080/"
        },
        "id": "TdAXKzs_2MLt",
        "outputId": "dd1d509e-448b-46d2-ad69-03205cd48808"
      },
      "source": [
        "%cd /content/drive/MyDrive/kaggle"
      ],
      "execution_count": null,
      "outputs": [
        {
          "output_type": "stream",
          "text": [
            "/content/drive/MyDrive/kaggle\n"
          ],
          "name": "stdout"
        }
      ]
    },
    {
      "cell_type": "code",
      "metadata": {
        "colab": {
          "base_uri": "https://localhost:8080/"
        },
        "id": "XsSxldqk2Y7B",
        "outputId": "cc1839fd-1eb2-4742-a735-e781c5be82a8"
      },
      "source": [
        "!pwd"
      ],
      "execution_count": null,
      "outputs": [
        {
          "output_type": "stream",
          "text": [
            "/content/drive/MyDrive/kaggle\n"
          ],
          "name": "stdout"
        }
      ]
    },
    {
      "cell_type": "code",
      "metadata": {
        "colab": {
          "base_uri": "https://localhost:8080/"
        },
        "id": "2T6YHL3226Wn",
        "outputId": "dbcfbfcf-304c-4040-86ce-cdf1a1c43abf"
      },
      "source": [
        "!kaggle datasets download -d ashishpatel26/facial-expression-recognitionferchallenge"
      ],
      "execution_count": null,
      "outputs": [
        {
          "output_type": "stream",
          "text": [
            "Downloading facial-expression-recognitionferchallenge.zip to /content/drive/MyDrive/kaggle\n",
            " 95% 92.0M/96.6M [00:01<00:00, 46.3MB/s]\n",
            "100% 96.6M/96.6M [00:01<00:00, 60.7MB/s]\n"
          ],
          "name": "stdout"
        }
      ]
    },
    {
      "cell_type": "code",
      "metadata": {
        "colab": {
          "base_uri": "https://localhost:8080/"
        },
        "id": "onxONfma5deH",
        "outputId": "c0ad722d-37d2-4a58-e92c-91bae6e40ed7"
      },
      "source": [
        "!ls\n",
        "!unzip \\*.zip  && rm *.zip"
      ],
      "execution_count": null,
      "outputs": [
        {
          "output_type": "stream",
          "text": [
            "facial-expression-recognitionferchallenge.zip  kaggle.json\n",
            "fer2013\t\t\t\t\t       Submission.csv\n",
            "Archive:  facial-expression-recognitionferchallenge.zip\n",
            "replace Submission.csv? [y]es, [n]o, [A]ll, [N]one, [r]ename: A\n",
            "  inflating: Submission.csv          \n",
            "  inflating: fer2013/fer2013/README  \n",
            "  inflating: fer2013/fer2013/fer2013.bib  \n",
            "  inflating: fer2013/fer2013/fer2013.csv  \n"
          ],
          "name": "stdout"
        }
      ]
    },
    {
      "cell_type": "code",
      "metadata": {
        "id": "xkqn5KEM58MO"
      },
      "source": [
        "import pandas as pd\n",
        "data = pd.read_csv(\"/content/drive/MyDrive/kaggle/fer2013/fer2013/fer2013.csv\")"
      ],
      "execution_count": null,
      "outputs": []
    },
    {
      "cell_type": "code",
      "metadata": {
        "colab": {
          "base_uri": "https://localhost:8080/"
        },
        "id": "SPNfvyVC6PEr",
        "outputId": "a26a64dc-7b21-40dc-eeb2-052b976780d7"
      },
      "source": [
        "data.columns"
      ],
      "execution_count": null,
      "outputs": [
        {
          "output_type": "execute_result",
          "data": {
            "text/plain": [
              "Index(['emotion', 'pixels', 'Usage'], dtype='object')"
            ]
          },
          "metadata": {
            "tags": []
          },
          "execution_count": 4
        }
      ]
    },
    {
      "cell_type": "code",
      "metadata": {
        "colab": {
          "base_uri": "https://localhost:8080/"
        },
        "id": "lX9xZ6HS6aCB",
        "outputId": "55fc6c61-b288-43bb-c533-d4394b003bf9"
      },
      "source": [
        "data.info()"
      ],
      "execution_count": null,
      "outputs": [
        {
          "output_type": "stream",
          "text": [
            "<class 'pandas.core.frame.DataFrame'>\n",
            "RangeIndex: 35887 entries, 0 to 35886\n",
            "Data columns (total 3 columns):\n",
            " #   Column   Non-Null Count  Dtype \n",
            "---  ------   --------------  ----- \n",
            " 0   emotion  35887 non-null  int64 \n",
            " 1   pixels   35887 non-null  object\n",
            " 2   Usage    35887 non-null  object\n",
            "dtypes: int64(1), object(2)\n",
            "memory usage: 841.2+ KB\n"
          ],
          "name": "stdout"
        }
      ]
    },
    {
      "cell_type": "code",
      "metadata": {
        "colab": {
          "base_uri": "https://localhost:8080/"
        },
        "id": "neo0ryr86gfj",
        "outputId": "eaf541d6-1679-4db9-a9fb-496a17ecc268"
      },
      "source": [
        "for i in ['emotion', 'Usage']:\n",
        "    print(data[i].unique())"
      ],
      "execution_count": null,
      "outputs": [
        {
          "output_type": "stream",
          "text": [
            "[0 2 4 6 3 5 1]\n",
            "['Training' 'PublicTest' 'PrivateTest']\n"
          ],
          "name": "stdout"
        }
      ]
    },
    {
      "cell_type": "code",
      "metadata": {
        "colab": {
          "base_uri": "https://localhost:8080/"
        },
        "id": "4mSVA6qZ8KW8",
        "outputId": "f05d30db-fde7-48cd-c61a-b011e8876b5d"
      },
      "source": [
        "# changing the pixels to numpy array\n",
        "import numpy as np\n",
        "X = data['pixels'].apply(lambda x: np.array(x.split()).reshape(48, 48, 1).astype('float32'))\n",
        "X = np.stack(X, axis=0)\n",
        "X.shape"
      ],
      "execution_count": null,
      "outputs": [
        {
          "output_type": "execute_result",
          "data": {
            "text/plain": [
              "(35887, 48, 48, 1)"
            ]
          },
          "metadata": {
            "tags": []
          },
          "execution_count": 7
        }
      ]
    },
    {
      "cell_type": "code",
      "metadata": {
        "id": "PDuqTpt6BoN-"
      },
      "source": [
        "lookup = ('anger', 'disgust', 'fear', 'happiness', 'sadness', 'surprise', 'neutral')\n",
        "y = data['emotion']"
      ],
      "execution_count": null,
      "outputs": []
    },
    {
      "cell_type": "code",
      "metadata": {
        "colab": {
          "base_uri": "https://localhost:8080/"
        },
        "id": "Eu0rO9eA9VAw",
        "outputId": "ec9ca62f-6452-4117-b726-4808ca900769"
      },
      "source": [
        "X[0].reshape((48,48)).shape "
      ],
      "execution_count": null,
      "outputs": [
        {
          "output_type": "execute_result",
          "data": {
            "text/plain": [
              "(48, 48)"
            ]
          },
          "metadata": {
            "tags": []
          },
          "execution_count": 9
        }
      ]
    },
    {
      "cell_type": "code",
      "metadata": {
        "id": "GbmnWj4v9BsN"
      },
      "source": [
        "import matplotlib.pyplot as plt\n",
        "def plot_index():\n",
        "  index = int(input('Enter Value: '))\n",
        "  plt.imshow(X[index].reshape((48,48)),cmap='gray')\n",
        "  plt.title(lookup[y[index]])"
      ],
      "execution_count": null,
      "outputs": []
    },
    {
      "cell_type": "code",
      "metadata": {
        "colab": {
          "base_uri": "https://localhost:8080/",
          "height": 299
        },
        "id": "I18o3EEM9SwO",
        "outputId": "3ccfba4c-ca7d-46c6-a38c-19a71c5d706e"
      },
      "source": [
        "plot_index()"
      ],
      "execution_count": null,
      "outputs": [
        {
          "output_type": "stream",
          "text": [
            "Enter Value: 808\n"
          ],
          "name": "stdout"
        },
        {
          "output_type": "display_data",
          "data": {
            "image/png": "[encoded data removed]",
            "text/plain": [
              "<Figure size 432x288 with 1 Axes>"
            ]
          },
          "metadata": {
            "tags": [],
            "needs_background": "light"
          }
        }
      ]
    },
    {
      "cell_type": "code",
      "metadata": {
        "colab": {
          "base_uri": "https://localhost:8080/",
          "height": 314
        },
        "id": "vcoSyJT1G9-m",
        "outputId": "29d0f4e1-d7b6-48b5-ef42-b12188a4d83f"
      },
      "source": [
        "import seaborn as sns\n",
        "sns.countplot(x=y)\n",
        "plt.xticks(range(7),lookup)\n",
        "plt.legend()"
      ],
      "execution_count": null,
      "outputs": [
        {
          "output_type": "stream",
          "text": [
            "No handles with labels found to put in legend.\n"
          ],
          "name": "stderr"
        },
        {
          "output_type": "execute_result",
          "data": {
            "text/plain": [
              "<matplotlib.legend.Legend at 0x7f9e8b9cdfd0>"
            ]
          },
          "metadata": {
            "tags": []
          },
          "execution_count": 13
        },
        {
          "output_type": "display_data",
          "data": {
            "image/png": "[encoded data removed]",
            "text/plain": [
              "<Figure size 432x288 with 1 Axes>"
            ]
          },
          "metadata": {
            "tags": [],
            "needs_background": "light"
          }
        }
      ]
    },
    {
      "cell_type": "code",
      "metadata": {
        "colab": {
          "base_uri": "https://localhost:8080/"
        },
        "id": "TLzmOF-uHZr5",
        "outputId": "0b1a88c1-6e24-4f93-b369-c8be4a17b0f9"
      },
      "source": [
        "# Label encoding\n",
        "from sklearn.preprocessing import LabelEncoder\n",
        "from keras.utils import np_utils\n",
        "le = LabelEncoder()\n",
        "img_labels = le.fit_transform(y)\n",
        "img_labels = np_utils.to_categorical(img_labels)\n",
        "img_labels.shape\n"
      ],
      "execution_count": null,
      "outputs": [
        {
          "output_type": "execute_result",
          "data": {
            "text/plain": [
              "(35887, 7)"
            ]
          },
          "metadata": {
            "tags": []
          },
          "execution_count": 11
        }
      ]
    },
    {
      "cell_type": "code",
      "metadata": {
        "colab": {
          "base_uri": "https://localhost:8080/"
        },
        "id": "3gQJTvhwIAUu",
        "outputId": "faeeeb32-6a24-4287-d2c0-1ef80acd686b"
      },
      "source": [
        "img_labels"
      ],
      "execution_count": null,
      "outputs": [
        {
          "output_type": "execute_result",
          "data": {
            "text/plain": [
              "array([[1., 0., 0., ..., 0., 0., 0.],\n",
              "       [1., 0., 0., ..., 0., 0., 0.],\n",
              "       [0., 0., 1., ..., 0., 0., 0.],\n",
              "       ...,\n",
              "       [1., 0., 0., ..., 0., 0., 0.],\n",
              "       [0., 0., 0., ..., 0., 0., 0.],\n",
              "       [0., 0., 1., ..., 0., 0., 0.]], dtype=float32)"
            ]
          },
          "metadata": {
            "tags": []
          },
          "execution_count": 12
        }
      ]
    },
    {
      "cell_type": "code",
      "metadata": {
        "colab": {
          "base_uri": "https://localhost:8080/"
        },
        "id": "3Fr5BCdcIVjY",
        "outputId": "c7efe199-e56a-42d9-9048-8631518f7e0e"
      },
      "source": [
        "# devide images by 255. so that values range between 0 to 1\n",
        "X = X/255.\n",
        "np.max(X)"
      ],
      "execution_count": null,
      "outputs": [
        {
          "output_type": "execute_result",
          "data": {
            "text/plain": [
              "1.0"
            ]
          },
          "metadata": {
            "tags": []
          },
          "execution_count": 13
        }
      ]
    },
    {
      "cell_type": "code",
      "metadata": {
        "id": "FK5OpRSlI7jH"
      },
      "source": [
        "# Deviding train set and valid set\n",
        "from sklearn.model_selection import train_test_split\n",
        "X_train,X_valid,y_train,y_valid = train_test_split(X,img_labels,test_size = 0.3,random_state=42)"
      ],
      "execution_count": null,
      "outputs": []
    },
    {
      "cell_type": "code",
      "metadata": {
        "colab": {
          "base_uri": "https://localhost:8080/"
        },
        "id": "2MWwAdnkKQeg",
        "outputId": "edf2b282-2fb4-4b9d-9944-648777cd82da"
      },
      "source": [
        "X_valid.shape,y_valid.shape"
      ],
      "execution_count": null,
      "outputs": [
        {
          "output_type": "execute_result",
          "data": {
            "text/plain": [
              "((10767, 48, 48, 1), (10767, 7))"
            ]
          },
          "metadata": {
            "tags": []
          },
          "execution_count": 15
        }
      ]
    },
    {
      "cell_type": "code",
      "metadata": {
        "colab": {
          "base_uri": "https://localhost:8080/"
        },
        "id": "nMhoFcesLOGe",
        "outputId": "2a14afd5-ff2e-419c-99d2-b0ed3253e27a"
      },
      "source": [
        "X[0].shape"
      ],
      "execution_count": null,
      "outputs": [
        {
          "output_type": "execute_result",
          "data": {
            "text/plain": [
              "(48, 48, 1)"
            ]
          },
          "metadata": {
            "tags": []
          },
          "execution_count": 16
        }
      ]
    },
    {
      "cell_type": "code",
      "metadata": {
        "id": "-olmAH5qNJe9"
      },
      "source": [
        "import keras"
      ],
      "execution_count": null,
      "outputs": []
    },
    {
      "cell_type": "code",
      "metadata": {
        "id": "iFSXmsliKSL3"
      },
      "source": [
        "model = keras.models.Sequential([\n",
        "                                 keras.layers.Conv2D(filters=64,kernel_size=(5,5),input_shape = (48,48,1),\n",
        "                                                     activation='elu',padding='same',kernel_initializer='he_normal'),\n",
        "                                 keras.layers.BatchNormalization(),\n",
        "                                 keras.layers.Conv2D(filters=64,kernel_size=(5,5),\n",
        "                                                     activation='elu',padding='same',kernel_initializer='he_normal'),\n",
        "                                 keras.layers.MaxPooling2D(pool_size=(2,2)),\n",
        "                                 keras.layers.Dropout(0.4),\n",
        "                                 keras.layers.Conv2D(filters=128,kernel_size=(3,3),activation='elu',padding='same',\n",
        "                                                     kernel_initializer='he_normal'),\n",
        "                                 keras.layers.BatchNormalization(),\n",
        "                              \n",
        "                                 keras.layers.Conv2D(filters=128,kernel_size=(3,3),activation='elu',padding='same',\n",
        "                                                     kernel_initializer='he_normal'),\n",
        "                                 keras.layers.BatchNormalization(),\n",
        "                                 keras.layers.MaxPooling2D(pool_size=(2,2)),\n",
        "\n",
        "                                 keras.layers.Conv2D(filters = 256,kernel_size = (3, 3),activation = 'elu',\n",
        "                                                    padding ='same',kernel_initializer = 'he_normal'),\n",
        "                                 keras.layers.BatchNormalization(),\n",
        "                                 keras.layers.Conv2D(filters = 256,kernel_size = (3, 3),activation = 'elu',\n",
        "                                                    padding ='same',kernel_initializer = 'he_normal'),\n",
        "                                 keras.layers.MaxPooling2D(pool_size=(2,2)),\n",
        "                                 keras.layers.Dropout(0.6),\n",
        "                                 keras.layers.Flatten(name='flatten'),\n",
        "                                 keras.layers.Dense(128,activation='elu',kernel_initializer='he_normal'),\n",
        "                                 keras.layers.BatchNormalization(),\n",
        "                                 keras.layers.Dropout(0.6),\n",
        "                                 keras.layers.Dense(units=7,activation='softmax')])"
      ],
      "execution_count": null,
      "outputs": []
    },
    {
      "cell_type": "code",
      "metadata": {
        "colab": {
          "base_uri": "https://localhost:8080/"
        },
        "id": "NIUZ0N-S5xN3",
        "outputId": "d6e25a91-5e43-40bc-9a04-277744916400"
      },
      "source": [
        "model.summary()"
      ],
      "execution_count": null,
      "outputs": [
        {
          "output_type": "stream",
          "text": [
            "Model: \"sequential\"\n",
            "_________________________________________________________________\n",
            "Layer (type)                 Output Shape              Param #   \n",
            "=================================================================\n",
            "conv2d (Conv2D)              (None, 48, 48, 64)        1664      \n",
            "_________________________________________________________________\n",
            "batch_normalization (BatchNo (None, 48, 48, 64)        256       \n",
            "_________________________________________________________________\n",
            "conv2d_1 (Conv2D)            (None, 48, 48, 64)        102464    \n",
            "_________________________________________________________________\n",
            "max_pooling2d (MaxPooling2D) (None, 24, 24, 64)        0         \n",
            "_________________________________________________________________\n",
            "dropout (Dropout)            (None, 24, 24, 64)        0         \n",
            "_________________________________________________________________\n",
            "conv2d_2 (Conv2D)            (None, 24, 24, 128)       73856     \n",
            "_________________________________________________________________\n",
            "batch_normalization_1 (Batch (None, 24, 24, 128)       512       \n",
            "_________________________________________________________________\n",
            "conv2d_3 (Conv2D)            (None, 24, 24, 128)       147584    \n",
            "_________________________________________________________________\n",
            "batch_normalization_2 (Batch (None, 24, 24, 128)       512       \n",
            "_________________________________________________________________\n",
            "max_pooling2d_1 (MaxPooling2 (None, 12, 12, 128)       0         \n",
            "_________________________________________________________________\n",
            "conv2d_4 (Conv2D)            (None, 12, 12, 256)       295168    \n",
            "_________________________________________________________________\n",
            "batch_normalization_3 (Batch (None, 12, 12, 256)       1024      \n",
            "_________________________________________________________________\n",
            "conv2d_5 (Conv2D)            (None, 12, 12, 256)       590080    \n",
            "_________________________________________________________________\n",
            "max_pooling2d_2 (MaxPooling2 (None, 6, 6, 256)         0         \n",
            "_________________________________________________________________\n",
            "dropout_1 (Dropout)          (None, 6, 6, 256)         0         \n",
            "_________________________________________________________________\n",
            "flatten (Flatten)            (None, 9216)              0         \n",
            "_________________________________________________________________\n",
            "dense (Dense)                (None, 128)               1179776   \n",
            "_________________________________________________________________\n",
            "batch_normalization_4 (Batch (None, 128)               512       \n",
            "_________________________________________________________________\n",
            "dropout_2 (Dropout)          (None, 128)               0         \n",
            "_________________________________________________________________\n",
            "dense_1 (Dense)              (None, 7)                 903       \n",
            "=================================================================\n",
            "Total params: 2,394,311\n",
            "Trainable params: 2,392,903\n",
            "Non-trainable params: 1,408\n",
            "_________________________________________________________________\n"
          ],
          "name": "stdout"
        }
      ]
    },
    {
      "cell_type": "code",
      "metadata": {
        "colab": {
          "base_uri": "https://localhost:8080/"
        },
        "id": "3iavviIT-9jk",
        "outputId": "9f901223-3ddf-4d90-c222-f037bf7f1e5a"
      },
      "source": [
        "model.compile(loss='categorical_crossentropy',optimizer='adam',metrics=['accuracy'])\n",
        "model.fit(X_train,y_train,validation_data=(X_valid,y_valid),epochs=100)"
      ],
      "execution_count": null,
      "outputs": [
        {
          "output_type": "stream",
          "text": [
            "Epoch 1/100\n",
            "785/785 [==============================] - 65s 24ms/step - loss: 1.8725 - accuracy: 0.3024 - val_loss: 1.5171 - val_accuracy: 0.4543\n",
            "Epoch 2/100\n",
            "785/785 [==============================] - 18s 23ms/step - loss: 1.3240 - accuracy: 0.4950 - val_loss: 1.2589 - val_accuracy: 0.5332\n",
            "Epoch 3/100\n",
            "785/785 [==============================] - 18s 23ms/step - loss: 1.1508 - accuracy: 0.5662 - val_loss: 1.2341 - val_accuracy: 0.5371\n",
            "Epoch 4/100\n",
            "785/785 [==============================] - 18s 23ms/step - loss: 1.0341 - accuracy: 0.6058 - val_loss: 1.1148 - val_accuracy: 0.5845\n",
            "Epoch 5/100\n",
            "785/785 [==============================] - 18s 23ms/step - loss: 0.9325 - accuracy: 0.6529 - val_loss: 1.1413 - val_accuracy: 0.5954\n",
            "Epoch 6/100\n",
            "785/785 [==============================] - 18s 23ms/step - loss: 0.7999 - accuracy: 0.7104 - val_loss: 1.2510 - val_accuracy: 0.5981\n",
            "Epoch 7/100\n",
            "785/785 [==============================] - 18s 23ms/step - loss: 0.6498 - accuracy: 0.7638 - val_loss: 1.2318 - val_accuracy: 0.5843\n",
            "Epoch 8/100\n",
            "785/785 [==============================] - 18s 23ms/step - loss: 0.5183 - accuracy: 0.8156 - val_loss: 1.2064 - val_accuracy: 0.6034\n",
            "Epoch 9/100\n",
            "785/785 [==============================] - 18s 23ms/step - loss: 0.3792 - accuracy: 0.8693 - val_loss: 1.4306 - val_accuracy: 0.6029\n",
            "Epoch 10/100\n",
            "785/785 [==============================] - 18s 23ms/step - loss: 0.3092 - accuracy: 0.8932 - val_loss: 1.5796 - val_accuracy: 0.5922\n",
            "Epoch 11/100\n",
            "785/785 [==============================] - 18s 23ms/step - loss: 0.2480 - accuracy: 0.9142 - val_loss: 1.6526 - val_accuracy: 0.6095\n",
            "Epoch 12/100\n",
            "785/785 [==============================] - 18s 23ms/step - loss: 0.2163 - accuracy: 0.9251 - val_loss: 1.6789 - val_accuracy: 0.6143\n",
            "Epoch 13/100\n",
            "785/785 [==============================] - 18s 23ms/step - loss: 0.1922 - accuracy: 0.9352 - val_loss: 1.7668 - val_accuracy: 0.6103\n",
            "Epoch 14/100\n",
            "785/785 [==============================] - 18s 23ms/step - loss: 0.1806 - accuracy: 0.9370 - val_loss: 1.8467 - val_accuracy: 0.6040\n",
            "Epoch 15/100\n",
            "785/785 [==============================] - 18s 23ms/step - loss: 0.1594 - accuracy: 0.9436 - val_loss: 1.8056 - val_accuracy: 0.6008\n",
            "Epoch 16/100\n",
            "785/785 [==============================] - 18s 23ms/step - loss: 0.1412 - accuracy: 0.9510 - val_loss: 1.8826 - val_accuracy: 0.6019\n",
            "Epoch 17/100\n",
            "785/785 [==============================] - 18s 23ms/step - loss: 0.1391 - accuracy: 0.9506 - val_loss: 1.8649 - val_accuracy: 0.5997\n",
            "Epoch 18/100\n",
            "785/785 [==============================] - 18s 23ms/step - loss: 0.1269 - accuracy: 0.9561 - val_loss: 1.9697 - val_accuracy: 0.6061\n",
            "Epoch 19/100\n",
            "785/785 [==============================] - 18s 23ms/step - loss: 0.1277 - accuracy: 0.9569 - val_loss: 1.9501 - val_accuracy: 0.6106\n",
            "Epoch 20/100\n",
            "785/785 [==============================] - 18s 23ms/step - loss: 0.1194 - accuracy: 0.9588 - val_loss: 1.9946 - val_accuracy: 0.5902\n",
            "Epoch 21/100\n",
            "785/785 [==============================] - 18s 23ms/step - loss: 0.1116 - accuracy: 0.9645 - val_loss: 1.8494 - val_accuracy: 0.6152\n",
            "Epoch 22/100\n",
            "785/785 [==============================] - 18s 23ms/step - loss: 0.1123 - accuracy: 0.9617 - val_loss: 1.9913 - val_accuracy: 0.6107\n",
            "Epoch 23/100\n",
            "785/785 [==============================] - 18s 23ms/step - loss: 0.0995 - accuracy: 0.9654 - val_loss: 1.8925 - val_accuracy: 0.6050\n",
            "Epoch 24/100\n",
            "785/785 [==============================] - 18s 23ms/step - loss: 0.1016 - accuracy: 0.9657 - val_loss: 1.9628 - val_accuracy: 0.6091\n",
            "Epoch 25/100\n",
            "785/785 [==============================] - 18s 24ms/step - loss: 0.0900 - accuracy: 0.9698 - val_loss: 2.1553 - val_accuracy: 0.6101\n",
            "Epoch 26/100\n",
            "785/785 [==============================] - 18s 23ms/step - loss: 0.0944 - accuracy: 0.9656 - val_loss: 2.3070 - val_accuracy: 0.6088\n",
            "Epoch 27/100\n",
            "785/785 [==============================] - 18s 23ms/step - loss: 0.0922 - accuracy: 0.9693 - val_loss: 2.2431 - val_accuracy: 0.6108\n",
            "Epoch 28/100\n",
            "785/785 [==============================] - 18s 23ms/step - loss: 0.0849 - accuracy: 0.9701 - val_loss: 2.2268 - val_accuracy: 0.6061\n",
            "Epoch 29/100\n",
            "785/785 [==============================] - 18s 23ms/step - loss: 0.0802 - accuracy: 0.9725 - val_loss: 2.2092 - val_accuracy: 0.6103\n",
            "Epoch 30/100\n",
            "785/785 [==============================] - 18s 23ms/step - loss: 0.0727 - accuracy: 0.9752 - val_loss: 2.1384 - val_accuracy: 0.6089\n",
            "Epoch 31/100\n",
            "785/785 [==============================] - 18s 24ms/step - loss: 0.0786 - accuracy: 0.9731 - val_loss: 2.0303 - val_accuracy: 0.6086\n",
            "Epoch 32/100\n",
            "785/785 [==============================] - 18s 23ms/step - loss: 0.0862 - accuracy: 0.9701 - val_loss: 2.4187 - val_accuracy: 0.5900\n",
            "Epoch 33/100\n",
            "785/785 [==============================] - 18s 23ms/step - loss: 0.0693 - accuracy: 0.9770 - val_loss: 2.1640 - val_accuracy: 0.6118\n",
            "Epoch 34/100\n",
            "785/785 [==============================] - 18s 23ms/step - loss: 0.0795 - accuracy: 0.9741 - val_loss: 2.1225 - val_accuracy: 0.6055\n",
            "Epoch 35/100\n",
            "785/785 [==============================] - 18s 23ms/step - loss: 0.0722 - accuracy: 0.9767 - val_loss: 2.1087 - val_accuracy: 0.6133\n",
            "Epoch 36/100\n",
            "785/785 [==============================] - 18s 23ms/step - loss: 0.0693 - accuracy: 0.9754 - val_loss: 2.1619 - val_accuracy: 0.6090\n",
            "Epoch 37/100\n",
            "785/785 [==============================] - 18s 23ms/step - loss: 0.0664 - accuracy: 0.9755 - val_loss: 2.2349 - val_accuracy: 0.6065\n",
            "Epoch 38/100\n",
            "785/785 [==============================] - 18s 23ms/step - loss: 0.0747 - accuracy: 0.9739 - val_loss: 2.2629 - val_accuracy: 0.6179\n",
            "Epoch 39/100\n",
            "785/785 [==============================] - 18s 23ms/step - loss: 0.0600 - accuracy: 0.9786 - val_loss: 2.2765 - val_accuracy: 0.6163\n",
            "Epoch 40/100\n",
            "785/785 [==============================] - 18s 23ms/step - loss: 0.0590 - accuracy: 0.9806 - val_loss: 2.2603 - val_accuracy: 0.6154\n",
            "Epoch 41/100\n",
            "785/785 [==============================] - 18s 24ms/step - loss: 0.0587 - accuracy: 0.9796 - val_loss: 2.3474 - val_accuracy: 0.6105\n",
            "Epoch 42/100\n",
            "785/785 [==============================] - 18s 23ms/step - loss: 0.0650 - accuracy: 0.9774 - val_loss: 2.3631 - val_accuracy: 0.6133\n",
            "Epoch 43/100\n",
            "785/785 [==============================] - 18s 23ms/step - loss: 0.0682 - accuracy: 0.9771 - val_loss: 2.3232 - val_accuracy: 0.6099\n",
            "Epoch 44/100\n",
            "785/785 [==============================] - 18s 23ms/step - loss: 0.0577 - accuracy: 0.9804 - val_loss: 2.3556 - val_accuracy: 0.6156\n",
            "Epoch 45/100\n",
            "785/785 [==============================] - 18s 24ms/step - loss: 0.0582 - accuracy: 0.9801 - val_loss: 2.3433 - val_accuracy: 0.6004\n",
            "Epoch 46/100\n",
            "785/785 [==============================] - 18s 23ms/step - loss: 0.0568 - accuracy: 0.9806 - val_loss: 2.3825 - val_accuracy: 0.6120\n",
            "Epoch 47/100\n",
            "785/785 [==============================] - 18s 24ms/step - loss: 0.0533 - accuracy: 0.9809 - val_loss: 2.4428 - val_accuracy: 0.6134\n",
            "Epoch 48/100\n",
            "785/785 [==============================] - 18s 23ms/step - loss: 0.0503 - accuracy: 0.9834 - val_loss: 2.5224 - val_accuracy: 0.6125\n",
            "Epoch 49/100\n",
            "785/785 [==============================] - 18s 24ms/step - loss: 0.0502 - accuracy: 0.9835 - val_loss: 2.3041 - val_accuracy: 0.6077\n",
            "Epoch 50/100\n",
            "785/785 [==============================] - 18s 23ms/step - loss: 0.0547 - accuracy: 0.9807 - val_loss: 2.4756 - val_accuracy: 0.6157\n",
            "Epoch 51/100\n",
            "785/785 [==============================] - 18s 23ms/step - loss: 0.0482 - accuracy: 0.9829 - val_loss: 2.3695 - val_accuracy: 0.6170\n",
            "Epoch 52/100\n",
            "785/785 [==============================] - 18s 23ms/step - loss: 0.0509 - accuracy: 0.9817 - val_loss: 2.4094 - val_accuracy: 0.6133\n",
            "Epoch 53/100\n",
            "785/785 [==============================] - 18s 23ms/step - loss: 0.0492 - accuracy: 0.9818 - val_loss: 2.4277 - val_accuracy: 0.6156\n",
            "Epoch 54/100\n",
            "785/785 [==============================] - 18s 23ms/step - loss: 0.0474 - accuracy: 0.9838 - val_loss: 2.3983 - val_accuracy: 0.6182\n",
            "Epoch 55/100\n",
            "785/785 [==============================] - 18s 24ms/step - loss: 0.0502 - accuracy: 0.9829 - val_loss: 2.4771 - val_accuracy: 0.6146\n",
            "Epoch 56/100\n",
            "785/785 [==============================] - 18s 23ms/step - loss: 0.0456 - accuracy: 0.9842 - val_loss: 2.3573 - val_accuracy: 0.6138\n",
            "Epoch 57/100\n",
            "785/785 [==============================] - 18s 23ms/step - loss: 0.0460 - accuracy: 0.9843 - val_loss: 2.3645 - val_accuracy: 0.6179\n",
            "Epoch 58/100\n",
            "785/785 [==============================] - 19s 24ms/step - loss: 0.0452 - accuracy: 0.9836 - val_loss: 2.4644 - val_accuracy: 0.6079\n",
            "Epoch 59/100\n",
            "785/785 [==============================] - 18s 23ms/step - loss: 0.0473 - accuracy: 0.9846 - val_loss: 2.4809 - val_accuracy: 0.6168\n",
            "Epoch 60/100\n",
            "785/785 [==============================] - 18s 24ms/step - loss: 0.0401 - accuracy: 0.9843 - val_loss: 2.4921 - val_accuracy: 0.6121\n",
            "Epoch 61/100\n",
            "785/785 [==============================] - 18s 23ms/step - loss: 0.0471 - accuracy: 0.9849 - val_loss: 2.5887 - val_accuracy: 0.6170\n",
            "Epoch 62/100\n",
            "785/785 [==============================] - 18s 23ms/step - loss: 0.0441 - accuracy: 0.9846 - val_loss: 2.4625 - val_accuracy: 0.6168\n",
            "Epoch 63/100\n",
            "785/785 [==============================] - 18s 23ms/step - loss: 0.0426 - accuracy: 0.9837 - val_loss: 2.4266 - val_accuracy: 0.6123\n",
            "Epoch 64/100\n",
            "785/785 [==============================] - 18s 23ms/step - loss: 0.0432 - accuracy: 0.9859 - val_loss: 2.4563 - val_accuracy: 0.6122\n",
            "Epoch 65/100\n",
            "785/785 [==============================] - 18s 24ms/step - loss: 0.0374 - accuracy: 0.9878 - val_loss: 2.5314 - val_accuracy: 0.6200\n",
            "Epoch 66/100\n",
            "785/785 [==============================] - 18s 23ms/step - loss: 0.0448 - accuracy: 0.9852 - val_loss: 2.4137 - val_accuracy: 0.6082\n",
            "Epoch 67/100\n",
            "785/785 [==============================] - 18s 23ms/step - loss: 0.0401 - accuracy: 0.9849 - val_loss: 2.3795 - val_accuracy: 0.6148\n",
            "Epoch 68/100\n",
            "785/785 [==============================] - 18s 23ms/step - loss: 0.0374 - accuracy: 0.9871 - val_loss: 2.5310 - val_accuracy: 0.6081\n",
            "Epoch 69/100\n",
            "785/785 [==============================] - 18s 23ms/step - loss: 0.0398 - accuracy: 0.9854 - val_loss: 2.5548 - val_accuracy: 0.6175\n",
            "Epoch 70/100\n",
            "785/785 [==============================] - 18s 24ms/step - loss: 0.0394 - accuracy: 0.9863 - val_loss: 2.4987 - val_accuracy: 0.6160\n",
            "Epoch 71/100\n",
            "785/785 [==============================] - 18s 23ms/step - loss: 0.0421 - accuracy: 0.9865 - val_loss: 2.4688 - val_accuracy: 0.6157\n",
            "Epoch 72/100\n",
            "785/785 [==============================] - 18s 23ms/step - loss: 0.0413 - accuracy: 0.9862 - val_loss: 2.6893 - val_accuracy: 0.6133\n",
            "Epoch 73/100\n",
            "785/785 [==============================] - 18s 23ms/step - loss: 0.0380 - accuracy: 0.9865 - val_loss: 2.6600 - val_accuracy: 0.6130\n",
            "Epoch 74/100\n",
            "785/785 [==============================] - 18s 23ms/step - loss: 0.0434 - accuracy: 0.9843 - val_loss: 2.4384 - val_accuracy: 0.6174\n",
            "Epoch 75/100\n",
            "785/785 [==============================] - 18s 23ms/step - loss: 0.0383 - accuracy: 0.9875 - val_loss: 2.6030 - val_accuracy: 0.6149\n",
            "Epoch 76/100\n",
            "785/785 [==============================] - 18s 23ms/step - loss: 0.0381 - accuracy: 0.9877 - val_loss: 2.4330 - val_accuracy: 0.6194\n",
            "Epoch 77/100\n",
            "785/785 [==============================] - 18s 23ms/step - loss: 0.0406 - accuracy: 0.9861 - val_loss: 2.5072 - val_accuracy: 0.6173\n",
            "Epoch 78/100\n",
            "785/785 [==============================] - 18s 23ms/step - loss: 0.0371 - accuracy: 0.9876 - val_loss: 2.4537 - val_accuracy: 0.6173\n",
            "Epoch 79/100\n",
            "785/785 [==============================] - 18s 24ms/step - loss: 0.0373 - accuracy: 0.9871 - val_loss: 2.5237 - val_accuracy: 0.6252\n",
            "Epoch 80/100\n",
            "785/785 [==============================] - 18s 23ms/step - loss: 0.0302 - accuracy: 0.9897 - val_loss: 2.4982 - val_accuracy: 0.6178\n",
            "Epoch 81/100\n",
            "785/785 [==============================] - 18s 23ms/step - loss: 0.0398 - accuracy: 0.9862 - val_loss: 2.6294 - val_accuracy: 0.6196\n",
            "Epoch 82/100\n",
            "785/785 [==============================] - 18s 23ms/step - loss: 0.0377 - accuracy: 0.9873 - val_loss: 2.5084 - val_accuracy: 0.6185\n",
            "Epoch 83/100\n",
            "785/785 [==============================] - 18s 23ms/step - loss: 0.0298 - accuracy: 0.9893 - val_loss: 2.6363 - val_accuracy: 0.6196\n",
            "Epoch 84/100\n",
            "785/785 [==============================] - 18s 23ms/step - loss: 0.0352 - accuracy: 0.9887 - val_loss: 2.5409 - val_accuracy: 0.6169\n",
            "Epoch 85/100\n",
            "785/785 [==============================] - 18s 23ms/step - loss: 0.0364 - accuracy: 0.9867 - val_loss: 2.5718 - val_accuracy: 0.6208\n",
            "Epoch 86/100\n",
            "785/785 [==============================] - 18s 23ms/step - loss: 0.0317 - accuracy: 0.9889 - val_loss: 2.4910 - val_accuracy: 0.6183\n",
            "Epoch 87/100\n",
            "785/785 [==============================] - 18s 23ms/step - loss: 0.0357 - accuracy: 0.9878 - val_loss: 2.5348 - val_accuracy: 0.6254\n",
            "Epoch 88/100\n",
            "785/785 [==============================] - 18s 23ms/step - loss: 0.0329 - accuracy: 0.9897 - val_loss: 2.4944 - val_accuracy: 0.6096\n",
            "Epoch 89/100\n",
            "785/785 [==============================] - 18s 23ms/step - loss: 0.0331 - accuracy: 0.9882 - val_loss: 2.5225 - val_accuracy: 0.6112\n",
            "Epoch 90/100\n",
            "785/785 [==============================] - 18s 23ms/step - loss: 0.0254 - accuracy: 0.9910 - val_loss: 2.5188 - val_accuracy: 0.6079\n",
            "Epoch 91/100\n",
            "785/785 [==============================] - 18s 23ms/step - loss: 0.0359 - accuracy: 0.9882 - val_loss: 2.5275 - val_accuracy: 0.6249\n",
            "Epoch 92/100\n",
            "785/785 [==============================] - 18s 23ms/step - loss: 0.0328 - accuracy: 0.9894 - val_loss: 2.5573 - val_accuracy: 0.6265\n",
            "Epoch 93/100\n",
            "785/785 [==============================] - 18s 23ms/step - loss: 0.0263 - accuracy: 0.9905 - val_loss: 2.5316 - val_accuracy: 0.6177\n",
            "Epoch 94/100\n",
            "785/785 [==============================] - 18s 23ms/step - loss: 0.0346 - accuracy: 0.9887 - val_loss: 2.7056 - val_accuracy: 0.6213\n",
            "Epoch 95/100\n",
            "785/785 [==============================] - 18s 23ms/step - loss: 0.0310 - accuracy: 0.9888 - val_loss: 2.5880 - val_accuracy: 0.6209\n",
            "Epoch 96/100\n",
            "785/785 [==============================] - 18s 23ms/step - loss: 0.0330 - accuracy: 0.9888 - val_loss: 2.3750 - val_accuracy: 0.6179\n",
            "Epoch 97/100\n",
            "785/785 [==============================] - 18s 23ms/step - loss: 0.0301 - accuracy: 0.9893 - val_loss: 2.6815 - val_accuracy: 0.6192\n",
            "Epoch 98/100\n",
            "785/785 [==============================] - 18s 23ms/step - loss: 0.0268 - accuracy: 0.9905 - val_loss: 2.6558 - val_accuracy: 0.6181\n",
            "Epoch 99/100\n",
            "785/785 [==============================] - 18s 23ms/step - loss: 0.0332 - accuracy: 0.9891 - val_loss: 2.7116 - val_accuracy: 0.6176\n",
            "Epoch 100/100\n",
            "785/785 [==============================] - 18s 23ms/step - loss: 0.0283 - accuracy: 0.9910 - val_loss: 2.6771 - val_accuracy: 0.6208\n"
          ],
          "name": "stdout"
        },
        {
          "output_type": "execute_result",
          "data": {
            "text/plain": [
              "<keras.callbacks.History at 0x7f327ea5bd90>"
            ]
          },
          "metadata": {
            "tags": []
          },
          "execution_count": 20
        }
      ]
    },
    {
      "cell_type": "code",
      "metadata": {
        "id": "GwI9o9ZcIhPO"
      },
      "source": [
        "history = model.history"
      ],
      "execution_count": null,
      "outputs": []
    },
    {
      "cell_type": "code",
      "metadata": {
        "colab": {
          "base_uri": "https://localhost:8080/",
          "height": 335
        },
        "id": "xl3nSsZF_PGr",
        "outputId": "4d7f1b10-3931-4138-df1e-a32604724e06"
      },
      "source": [
        "plt.plot(pd.DataFrame(history.history))"
      ],
      "execution_count": null,
      "outputs": [
        {
          "output_type": "execute_result",
          "data": {
            "text/plain": [
              "[<matplotlib.lines.Line2D at 0x7f32200eec90>,\n",
              " <matplotlib.lines.Line2D at 0x7f321a7a7210>,\n",
              " <matplotlib.lines.Line2D at 0x7f321a7b4d90>,\n",
              " <matplotlib.lines.Line2D at 0x7f321a7b44d0>]"
            ]
          },
          "metadata": {
            "tags": []
          },
          "execution_count": 27
        },
        {
          "output_type": "display_data",
          "data": {
            "image/png": "[encoded data removed]",
            "text/plain": [
              "<Figure size 432x288 with 1 Axes>"
            ]
          },
          "metadata": {
            "tags": [],
            "needs_background": "light"
          }
        }
      ]
    },
    {
      "cell_type": "code",
      "metadata": {
        "colab": {
          "base_uri": "https://localhost:8080/"
        },
        "id": "o5CcE-lVIcJb",
        "outputId": "e55b5631-b1a9-48c6-8415-683052181a85"
      },
      "source": [
        "!ls"
      ],
      "execution_count": null,
      "outputs": [
        {
          "output_type": "stream",
          "text": [
            "drive  sample_data\n"
          ],
          "name": "stdout"
        }
      ]
    },
    {
      "cell_type": "code",
      "metadata": {
        "colab": {
          "base_uri": "https://localhost:8080/"
        },
        "id": "K3ACtEYXJkE0",
        "outputId": "74897d99-e3bd-4e81-f89e-b260e9ea1866"
      },
      "source": [
        "%cd /content/drive/MyDrive/kaggle"
      ],
      "execution_count": null,
      "outputs": [
        {
          "output_type": "stream",
          "text": [
            "/content/drive/MyDrive/kaggle\n"
          ],
          "name": "stdout"
        }
      ]
    },
    {
      "cell_type": "code",
      "metadata": {
        "id": "yTs2xM0jJvdT"
      },
      "source": [
        "model.save_weights(\"/content/drive/MyDrive/kaggle/assets\")"
      ],
      "execution_count": null,
      "outputs": []
    },
    {
      "cell_type": "code",
      "metadata": {
        "id": "AH5Cnz_wn94x"
      },
      "source": [
        "import keras"
      ],
      "execution_count": null,
      "outputs": []
    },
    {
      "cell_type": "code",
      "metadata": {
        "id": "zv1aiSLgn2jy"
      },
      "source": [
        "my_model = keras.models.load_model(\"/content/drive/MyDrive/kaggle\")"
      ],
      "execution_count": null,
      "outputs": []
    },
    {
      "cell_type": "code",
      "metadata": {
        "colab": {
          "base_uri": "https://localhost:8080/",
          "height": 81
        },
        "id": "z1k6uceuJwtE",
        "outputId": "e3aa6adb-acbd-4935-a1a5-3fb019edbca6"
      },
      "source": [
        "pd.DataFrame(my_model.predict(X_valid[:1]))"
      ],
      "execution_count": null,
      "outputs": [
        {
          "output_type": "execute_result",
          "data": {
            "text/html": [
              "<div>\n",
              "<style scoped>\n",
              "    .dataframe tbody tr th:only-of-type {\n",
              "        vertical-align: middle;\n",
              "    }\n",
              "\n",
              "    .dataframe tbody tr th {\n",
              "        vertical-align: top;\n",
              "    }\n",
              "\n",
              "    .dataframe thead th {\n",
              "        text-align: right;\n",
              "    }\n",
              "</style>\n",
              "<table border=\"1\" class=\"dataframe\">\n",
              "  <thead>\n",
              "    <tr style=\"text-align: right;\">\n",
              "      <th></th>\n",
              "      <th>0</th>\n",
              "      <th>1</th>\n",
              "      <th>2</th>\n",
              "      <th>3</th>\n",
              "      <th>4</th>\n",
              "      <th>5</th>\n",
              "      <th>6</th>\n",
              "    </tr>\n",
              "  </thead>\n",
              "  <tbody>\n",
              "    <tr>\n",
              "      <th>0</th>\n",
              "      <td>1.825755e-07</td>\n",
              "      <td>1.666959e-12</td>\n",
              "      <td>8.870199e-11</td>\n",
              "      <td>1.0</td>\n",
              "      <td>9.818144e-09</td>\n",
              "      <td>2.941789e-10</td>\n",
              "      <td>1.334603e-10</td>\n",
              "    </tr>\n",
              "  </tbody>\n",
              "</table>\n",
              "</div>"
            ],
            "text/plain": [
              "              0             1  ...             5             6\n",
              "0  1.825755e-07  1.666959e-12  ...  2.941789e-10  1.334603e-10\n",
              "\n",
              "[1 rows x 7 columns]"
            ]
          },
          "metadata": {
            "tags": []
          },
          "execution_count": 22
        }
      ]
    },
    {
      "cell_type": "code",
      "metadata": {
        "id": "NPUXriK9eR02"
      },
      "source": [
        "result = my_model.predict(X_valid[:1])"
      ],
      "execution_count": null,
      "outputs": []
    },
    {
      "cell_type": "code",
      "metadata": {
        "colab": {
          "base_uri": "https://localhost:8080/"
        },
        "id": "wOadI9YmgBmr",
        "outputId": "3c3db90b-c0d3-48c3-a3aa-39f53b87f4ce"
      },
      "source": [
        "y_valid[0]"
      ],
      "execution_count": null,
      "outputs": [
        {
          "output_type": "execute_result",
          "data": {
            "text/plain": [
              "array([0., 0., 0., 1., 0., 0., 0.], dtype=float32)"
            ]
          },
          "metadata": {
            "tags": []
          },
          "execution_count": 29
        }
      ]
    },
    {
      "cell_type": "code",
      "metadata": {
        "colab": {
          "base_uri": "https://localhost:8080/",
          "height": 285
        },
        "id": "HTvrg6flfwHS",
        "outputId": "800dc974-1746-4e03-9d37-e897c8e3df42"
      },
      "source": [
        "plt.imshow(X_valid[0].reshape(48,48),cmap='gray')"
      ],
      "execution_count": null,
      "outputs": [
        {
          "output_type": "execute_result",
          "data": {
            "text/plain": [
              "<matplotlib.image.AxesImage at 0x7febc2e05690>"
            ]
          },
          "metadata": {
            "tags": []
          },
          "execution_count": 28
        },
        {
          "output_type": "display_data",
          "data": {
            "image/png": "[encoded data removed]",
            "text/plain": [
              "<Figure size 432x288 with 1 Axes>"
            ]
          },
          "metadata": {
            "tags": [],
            "needs_background": "light"
          }
        }
      ]
    },
    {
      "cell_type": "code",
      "metadata": {
        "colab": {
          "base_uri": "https://localhost:8080/"
        },
        "id": "2nX7bdD-hz6H",
        "outputId": "0e4cb840-c66a-4155-fcd7-d63e2e7baa02"
      },
      "source": [
        "result.tolist()[0]"
      ],
      "execution_count": null,
      "outputs": [
        {
          "output_type": "execute_result",
          "data": {
            "text/plain": [
              "[1.8257358647133515e-07,\n",
              " 1.6669428424403998e-12,\n",
              " 8.870181672504529e-11,\n",
              " 0.9999997615814209,\n",
              " 9.81814363143485e-09,\n",
              " 2.9417723812485974e-10,\n",
              " 1.3346029836824869e-10]"
            ]
          },
          "metadata": {
            "tags": []
          },
          "execution_count": 43
        }
      ]
    },
    {
      "cell_type": "code",
      "metadata": {
        "colab": {
          "base_uri": "https://localhost:8080/"
        },
        "id": "KDcIsw-bjuV3",
        "outputId": "b2cb36a0-71f7-4ba6-cc8b-3be568f6814b"
      },
      "source": [
        "np.argmax(result)"
      ],
      "execution_count": null,
      "outputs": [
        {
          "output_type": "execute_result",
          "data": {
            "text/plain": [
              "3"
            ]
          },
          "metadata": {
            "tags": []
          },
          "execution_count": 63
        }
      ]
    },
    {
      "cell_type": "code",
      "metadata": {
        "id": "3NtLt-ksfd_q"
      },
      "source": [
        "\n",
        "tt = np.where(result.tolist()[0] == np.max(result.tolist()[0]))"
      ],
      "execution_count": null,
      "outputs": []
    },
    {
      "cell_type": "code",
      "metadata": {
        "colab": {
          "base_uri": "https://localhost:8080/"
        },
        "id": "zN5oM4pVfkjs",
        "outputId": "adf783dc-81d0-4e53-f14f-d945477e9fa4"
      },
      "source": [
        "for item in tt:\n",
        "  print(lookup[int(item)])"
      ],
      "execution_count": null,
      "outputs": [
        {
          "output_type": "stream",
          "text": [
            "happiness\n"
          ],
          "name": "stdout"
        }
      ]
    },
    {
      "cell_type": "code",
      "metadata": {
        "id": "0UJD-njjjNSk"
      },
      "source": [
        ""
      ],
      "execution_count": null,
      "outputs": []
    },
    {
      "cell_type": "code",
      "metadata": {
        "colab": {
          "base_uri": "https://localhost:8080/"
        },
        "id": "Gm8XfbcEOoj-",
        "outputId": "8ec42cdf-553d-4ab7-e762-8dfb9c2218cd"
      },
      "source": [
        "X_valid[:0].shape"
      ],
      "execution_count": null,
      "outputs": [
        {
          "output_type": "execute_result",
          "data": {
            "text/plain": [
              "(0, 48, 48, 1)"
            ]
          },
          "metadata": {
            "tags": []
          },
          "execution_count": 23
        }
      ]
    },
    {
      "cell_type": "code",
      "metadata": {
        "colab": {
          "base_uri": "https://localhost:8080/",
          "height": 299
        },
        "id": "P5PCIi1qK8ww",
        "outputId": "66a41b25-e376-4657-8b52-cb02554481a4"
      },
      "source": [
        "plot_index()"
      ],
      "execution_count": null,
      "outputs": [
        {
          "output_type": "stream",
          "text": [
            "Enter Value: 999\n"
          ],
          "name": "stdout"
        },
        {
          "output_type": "display_data",
          "data": {
            "image/png": "[encoded data removed]",
            "text/plain": [
              "<Figure size 432x288 with 1 Axes>"
            ]
          },
          "metadata": {
            "tags": [],
            "needs_background": "light"
          }
        }
      ]
    },
    {
      "cell_type": "code",
      "metadata": {
        "colab": {
          "base_uri": "https://localhost:8080/"
        },
        "id": "4wYfiwG-px4i",
        "outputId": "27418245-bb26-451c-850d-b0b4920bf849"
      },
      "source": [
        "from sklearn.metrics import classification_report\n",
        "print(classification_report(np.argmax(y_valid,axis=1),np.argmax(my_model.predict(X_valid),axis=1)))\n"
      ],
      "execution_count": null,
      "outputs": [
        {
          "output_type": "stream",
          "text": [
            "              precision    recall  f1-score   support\n",
            "\n",
            "           0       0.49      0.57      0.53      1467\n",
            "           1       0.82      0.47      0.60       167\n",
            "           2       0.56      0.41      0.47      1566\n",
            "           3       0.81      0.83      0.82      2714\n",
            "           4       0.50      0.48      0.49      1793\n",
            "           5       0.76      0.72      0.74      1190\n",
            "           6       0.53      0.61      0.57      1870\n",
            "\n",
            "    accuracy                           0.62     10767\n",
            "   macro avg       0.64      0.59      0.60     10767\n",
            "weighted avg       0.62      0.62      0.62     10767\n",
            "\n"
          ],
          "name": "stdout"
        }
      ]
    },
    {
      "cell_type": "code",
      "metadata": {
        "id": "XNsFaWFzXXWn"
      },
      "source": [
        "my_model.save('my_model.h5')"
      ],
      "execution_count": null,
      "outputs": []
    },
    {
      "cell_type": "code",
      "metadata": {
        "id": "_Pf092kQtkj-"
      },
      "source": [
        "from google.colab import files\n",
        "files.download('my_model.h5')"
      ],
      "execution_count": null,
      "outputs": []
    },
    {
      "cell_type": "code",
      "metadata": {
        "colab": {
          "base_uri": "https://localhost:8080/",
          "height": 1000
        },
        "id": "Gqo4A7LyXSso",
        "outputId": "ccb21b19-ca30-4e2f-b77a-9016af0a3c26"
      },
      "source": [
        "!pip install colabcode\n",
        "!pip install fastapi"
      ],
      "execution_count": null,
      "outputs": [
        {
          "output_type": "stream",
          "text": [
            "Collecting colabcode\n",
            "  Downloading https://files.pythonhosted.org/packages/4b/90/f635c37e8e87cb9df76873edd35068e7b10cd20ac0ba4d2392ae7f307fe9/colabcode-0.3.0-py3-none-any.whl\n",
            "Collecting uvicorn==0.13.1\n",
            "\u001b[?25l  Downloading https://files.pythonhosted.org/packages/ef/67/546c35e9fffb585ea0608ba3bdcafe17ae402e304367203d0b08d6c23051/uvicorn-0.13.1-py3-none-any.whl (45kB)\n",
            "\u001b[K     |████████████████████████████████| 51kB 8.3MB/s \n",
            "\u001b[?25hCollecting nest-asyncio==1.4.3\n",
            "  Downloading https://files.pythonhosted.org/packages/5c/33/10805a3359f56ac4f3b520e64b9d5e6a288d87be95777b8023c64cba60f1/nest_asyncio-1.4.3-py3-none-any.whl\n",
            "Collecting pyngrok>=5.0.0\n",
            "\u001b[?25l  Downloading https://files.pythonhosted.org/packages/6b/4e/a2fe095bbe17cf26424c4abcd22a0490e22d01cc628f25af5e220ddbf6f0/pyngrok-5.0.5.tar.gz (745kB)\n",
            "\u001b[K     |████████████████████████████████| 747kB 36.0MB/s \n",
            "\u001b[?25hCollecting jupyterlab==3.0.7\n",
            "\u001b[?25l  Downloading https://files.pythonhosted.org/packages/90/27/149c258b8e80552ba1ad35636eca308776a284cb151cb8fcfff70adfbd0a/jupyterlab-3.0.7-py3-none-any.whl (8.3MB)\n",
            "\u001b[K     |████████████████████████████████| 8.3MB 40.6MB/s \n",
            "\u001b[?25hRequirement already satisfied: typing-extensions; python_version < \"3.8\" in /usr/local/lib/python3.7/dist-packages (from uvicorn==0.13.1->colabcode) (3.7.4.3)\n",
            "Requirement already satisfied: click==7.* in /usr/local/lib/python3.7/dist-packages (from uvicorn==0.13.1->colabcode) (7.1.2)\n",
            "Collecting h11>=0.8\n",
            "\u001b[?25l  Downloading https://files.pythonhosted.org/packages/60/0f/7a0eeea938eaf61074f29fed9717f2010e8d0e0905d36b38d3275a1e4622/h11-0.12.0-py3-none-any.whl (54kB)\n",
            "\u001b[K     |████████████████████████████████| 61kB 10.2MB/s \n",
            "\u001b[?25hRequirement already satisfied: PyYAML in /usr/local/lib/python3.7/dist-packages (from pyngrok>=5.0.0->colabcode) (3.13)\n",
            "Requirement already satisfied: ipython in /usr/local/lib/python3.7/dist-packages (from jupyterlab==3.0.7->colabcode) (5.5.0)\n",
            "Collecting tornado>=6.1.0\n",
            "\u001b[?25l  Downloading https://files.pythonhosted.org/packages/91/a8/9c5902233fa3c2e6a889cbd164333ddda5009669f494e3fadbeee2c03af5/tornado-6.1-cp37-cp37m-manylinux2010_x86_64.whl (428kB)\n",
            "\u001b[K     |████████████████████████████████| 430kB 42.6MB/s \n",
            "\u001b[?25hRequirement already satisfied: jupyter-core in /usr/local/lib/python3.7/dist-packages (from jupyterlab==3.0.7->colabcode) (4.7.1)\n",
            "Collecting jupyterlab-server~=2.0\n",
            "\u001b[?25l  Downloading https://files.pythonhosted.org/packages/bc/6f/a1cfff58e6bc195dce93d17332ba05a9d1691171912ed9a19e943927173a/jupyterlab_server-2.6.1-py3-none-any.whl (56kB)\n",
            "\u001b[K     |████████████████████████████████| 61kB 10.3MB/s \n",
            "\u001b[?25hRequirement already satisfied: packaging in /usr/local/lib/python3.7/dist-packages (from jupyterlab==3.0.7->colabcode) (20.9)\n",
            "Requirement already satisfied: jinja2>=2.10 in /usr/local/lib/python3.7/dist-packages (from jupyterlab==3.0.7->colabcode) (2.11.3)\n",
            "Collecting jupyter-server~=1.2\n",
            "\u001b[?25l  Downloading https://files.pythonhosted.org/packages/29/b7/7377d007118f7798b21362a6c0a0bf20c93cdc19345105276a862e1263d6/jupyter_server-1.9.0-py3-none-any.whl (389kB)\n",
            "\u001b[K     |████████████████████████████████| 399kB 52.0MB/s \n",
            "\u001b[?25hCollecting nbclassic~=0.2\n",
            "  Downloading https://files.pythonhosted.org/packages/11/68/217ab6d4e4676dcfa4e855bb435469164a361a58e1856872cb06277f14b5/nbclassic-0.3.1-py3-none-any.whl\n",
            "Requirement already satisfied: setuptools>=18.5 in /usr/local/lib/python3.7/dist-packages (from ipython->jupyterlab==3.0.7->colabcode) (57.0.0)\n",
            "Requirement already satisfied: pygments in /usr/local/lib/python3.7/dist-packages (from ipython->jupyterlab==3.0.7->colabcode) (2.6.1)\n",
            "Requirement already satisfied: prompt-toolkit<2.0.0,>=1.0.4 in /usr/local/lib/python3.7/dist-packages (from ipython->jupyterlab==3.0.7->colabcode) (1.0.18)\n",
            "Requirement already satisfied: simplegeneric>0.8 in /usr/local/lib/python3.7/dist-packages (from ipython->jupyterlab==3.0.7->colabcode) (0.8.1)\n",
            "Requirement already satisfied: decorator in /usr/local/lib/python3.7/dist-packages (from ipython->jupyterlab==3.0.7->colabcode) (4.4.2)\n",
            "Requirement already satisfied: pexpect; sys_platform != \"win32\" in /usr/local/lib/python3.7/dist-packages (from ipython->jupyterlab==3.0.7->colabcode) (4.8.0)\n",
            "Requirement already satisfied: pickleshare in /usr/local/lib/python3.7/dist-packages (from ipython->jupyterlab==3.0.7->colabcode) (0.7.5)\n",
            "Requirement already satisfied: traitlets>=4.2 in /usr/local/lib/python3.7/dist-packages (from ipython->jupyterlab==3.0.7->colabcode) (5.0.5)\n",
            "Requirement already satisfied: babel in /usr/local/lib/python3.7/dist-packages (from jupyterlab-server~=2.0->jupyterlab==3.0.7->colabcode) (2.9.1)\n",
            "Collecting json5\n",
            "  Downloading https://files.pythonhosted.org/packages/7e/8e/ebde0a31c71e7098b3014faf46c80bdbcadb3c23b0ac7c7646b2af7d302e/json5-0.9.6-py2.py3-none-any.whl\n",
            "Requirement already satisfied: requests in /usr/local/lib/python3.7/dist-packages (from jupyterlab-server~=2.0->jupyterlab==3.0.7->colabcode) (2.23.0)\n",
            "Collecting jsonschema>=3.0.1\n",
            "\u001b[?25l  Downloading https://files.pythonhosted.org/packages/c5/8f/51e89ce52a085483359217bc72cdbf6e75ee595d5b1d4b5ade40c7e018b8/jsonschema-3.2.0-py2.py3-none-any.whl (56kB)\n",
            "\u001b[K     |████████████████████████████████| 61kB 10.2MB/s \n",
            "\u001b[?25hRequirement already satisfied: pyparsing>=2.0.2 in /usr/local/lib/python3.7/dist-packages (from packaging->jupyterlab==3.0.7->colabcode) (2.4.7)\n",
            "Requirement already satisfied: MarkupSafe>=0.23 in /usr/local/lib/python3.7/dist-packages (from jinja2>=2.10->jupyterlab==3.0.7->colabcode) (2.0.1)\n",
            "Requirement already satisfied: argon2-cffi in /usr/local/lib/python3.7/dist-packages (from jupyter-server~=1.2->jupyterlab==3.0.7->colabcode) (20.1.0)\n",
            "Requirement already satisfied: Send2Trash in /usr/local/lib/python3.7/dist-packages (from jupyter-server~=1.2->jupyterlab==3.0.7->colabcode) (1.7.1)\n",
            "Collecting jupyter-client>=6.1.1\n",
            "\u001b[?25l  Downloading https://files.pythonhosted.org/packages/77/e8/c3cf72a32a697256608d5fa96360c431adec6e1c6709ba7f13f99ff5ee04/jupyter_client-6.1.12-py3-none-any.whl (112kB)\n",
            "\u001b[K     |████████████████████████████████| 122kB 62.2MB/s \n",
            "\u001b[?25hCollecting requests-unixsocket\n",
            "  Downloading https://files.pythonhosted.org/packages/d0/63/97662a6f7175c08381447a09f6bc35464075f0ea6549cf6daf2668b51f04/requests_unixsocket-0.2.0-py2.py3-none-any.whl\n",
            "Requirement already satisfied: prometheus-client in /usr/local/lib/python3.7/dist-packages (from jupyter-server~=1.2->jupyterlab==3.0.7->colabcode) (0.11.0)\n",
            "Requirement already satisfied: nbformat in /usr/local/lib/python3.7/dist-packages (from jupyter-server~=1.2->jupyterlab==3.0.7->colabcode) (5.1.3)\n",
            "Collecting anyio<4,>=3.1.0\n",
            "\u001b[?25l  Downloading https://files.pythonhosted.org/packages/5a/8c/6712b0aebe9b250736ec5dde99883b143290b49ecc2310eb583577e316aa/anyio-3.2.1-py3-none-any.whl (75kB)\n",
            "\u001b[K     |████████████████████████████████| 81kB 11.1MB/s \n",
            "\u001b[?25hRequirement already satisfied: terminado>=0.8.3 in /usr/local/lib/python3.7/dist-packages (from jupyter-server~=1.2->jupyterlab==3.0.7->colabcode) (0.10.1)\n",
            "Requirement already satisfied: nbconvert in /usr/local/lib/python3.7/dist-packages (from jupyter-server~=1.2->jupyterlab==3.0.7->colabcode) (5.6.1)\n",
            "Requirement already satisfied: ipython-genutils in /usr/local/lib/python3.7/dist-packages (from jupyter-server~=1.2->jupyterlab==3.0.7->colabcode) (0.2.0)\n",
            "Collecting websocket-client\n",
            "\u001b[?25l  Downloading https://files.pythonhosted.org/packages/ca/5f/3c211d168b2e9f9342cfb53bcfc26aab0eac63b998015e7af7bcae66119d/websocket_client-1.1.0-py2.py3-none-any.whl (68kB)\n",
            "\u001b[K     |████████████████████████████████| 71kB 11.7MB/s \n",
            "\u001b[?25hRequirement already satisfied: pyzmq>=17 in /usr/local/lib/python3.7/dist-packages (from jupyter-server~=1.2->jupyterlab==3.0.7->colabcode) (22.1.0)\n",
            "Requirement already satisfied: notebook<7 in /usr/local/lib/python3.7/dist-packages (from nbclassic~=0.2->jupyterlab==3.0.7->colabcode) (5.3.1)\n",
            "Requirement already satisfied: wcwidth in /usr/local/lib/python3.7/dist-packages (from prompt-toolkit<2.0.0,>=1.0.4->ipython->jupyterlab==3.0.7->colabcode) (0.2.5)\n",
            "Requirement already satisfied: six>=1.9.0 in /usr/local/lib/python3.7/dist-packages (from prompt-toolkit<2.0.0,>=1.0.4->ipython->jupyterlab==3.0.7->colabcode) (1.15.0)\n",
            "Requirement already satisfied: ptyprocess>=0.5 in /usr/local/lib/python3.7/dist-packages (from pexpect; sys_platform != \"win32\"->ipython->jupyterlab==3.0.7->colabcode) (0.7.0)\n",
            "Requirement already satisfied: pytz>=2015.7 in /usr/local/lib/python3.7/dist-packages (from babel->jupyterlab-server~=2.0->jupyterlab==3.0.7->colabcode) (2018.9)\n",
            "Requirement already satisfied: certifi>=2017.4.17 in /usr/local/lib/python3.7/dist-packages (from requests->jupyterlab-server~=2.0->jupyterlab==3.0.7->colabcode) (2021.5.30)\n",
            "Requirement already satisfied: idna<3,>=2.5 in /usr/local/lib/python3.7/dist-packages (from requests->jupyterlab-server~=2.0->jupyterlab==3.0.7->colabcode) (2.10)\n",
            "Requirement already satisfied: chardet<4,>=3.0.2 in /usr/local/lib/python3.7/dist-packages (from requests->jupyterlab-server~=2.0->jupyterlab==3.0.7->colabcode) (3.0.4)\n",
            "Requirement already satisfied: urllib3!=1.25.0,!=1.25.1,<1.26,>=1.21.1 in /usr/local/lib/python3.7/dist-packages (from requests->jupyterlab-server~=2.0->jupyterlab==3.0.7->colabcode) (1.24.3)\n",
            "Requirement already satisfied: attrs>=17.4.0 in /usr/local/lib/python3.7/dist-packages (from jsonschema>=3.0.1->jupyterlab-server~=2.0->jupyterlab==3.0.7->colabcode) (21.2.0)\n",
            "Requirement already satisfied: importlib-metadata; python_version < \"3.8\" in /usr/local/lib/python3.7/dist-packages (from jsonschema>=3.0.1->jupyterlab-server~=2.0->jupyterlab==3.0.7->colabcode) (4.6.0)\n",
            "Requirement already satisfied: pyrsistent>=0.14.0 in /usr/local/lib/python3.7/dist-packages (from jsonschema>=3.0.1->jupyterlab-server~=2.0->jupyterlab==3.0.7->colabcode) (0.18.0)\n",
            "Requirement already satisfied: cffi>=1.0.0 in /usr/local/lib/python3.7/dist-packages (from argon2-cffi->jupyter-server~=1.2->jupyterlab==3.0.7->colabcode) (1.14.5)\n",
            "Requirement already satisfied: python-dateutil>=2.1 in /usr/local/lib/python3.7/dist-packages (from jupyter-client>=6.1.1->jupyter-server~=1.2->jupyterlab==3.0.7->colabcode) (2.8.1)\n",
            "Collecting sniffio>=1.1\n",
            "  Downloading https://files.pythonhosted.org/packages/52/b0/7b2e028b63d092804b6794595871f936aafa5e9322dcaaad50ebf67445b3/sniffio-1.2.0-py3-none-any.whl\n",
            "Requirement already satisfied: entrypoints>=0.2.2 in /usr/local/lib/python3.7/dist-packages (from nbconvert->jupyter-server~=1.2->jupyterlab==3.0.7->colabcode) (0.3)\n",
            "Requirement already satisfied: testpath in /usr/local/lib/python3.7/dist-packages (from nbconvert->jupyter-server~=1.2->jupyterlab==3.0.7->colabcode) (0.5.0)\n",
            "Requirement already satisfied: bleach in /usr/local/lib/python3.7/dist-packages (from nbconvert->jupyter-server~=1.2->jupyterlab==3.0.7->colabcode) (3.3.0)\n",
            "Requirement already satisfied: defusedxml in /usr/local/lib/python3.7/dist-packages (from nbconvert->jupyter-server~=1.2->jupyterlab==3.0.7->colabcode) (0.7.1)\n",
            "Requirement already satisfied: mistune<2,>=0.8.1 in /usr/local/lib/python3.7/dist-packages (from nbconvert->jupyter-server~=1.2->jupyterlab==3.0.7->colabcode) (0.8.4)\n",
            "Requirement already satisfied: pandocfilters>=1.4.1 in /usr/local/lib/python3.7/dist-packages (from nbconvert->jupyter-server~=1.2->jupyterlab==3.0.7->colabcode) (1.4.3)\n",
            "Requirement already satisfied: ipykernel in /usr/local/lib/python3.7/dist-packages (from notebook<7->nbclassic~=0.2->jupyterlab==3.0.7->colabcode) (4.10.1)\n",
            "Requirement already satisfied: zipp>=0.5 in /usr/local/lib/python3.7/dist-packages (from importlib-metadata; python_version < \"3.8\"->jsonschema>=3.0.1->jupyterlab-server~=2.0->jupyterlab==3.0.7->colabcode) (3.4.1)\n",
            "Requirement already satisfied: pycparser in /usr/local/lib/python3.7/dist-packages (from cffi>=1.0.0->argon2-cffi->jupyter-server~=1.2->jupyterlab==3.0.7->colabcode) (2.20)\n",
            "Requirement already satisfied: webencodings in /usr/local/lib/python3.7/dist-packages (from bleach->nbconvert->jupyter-server~=1.2->jupyterlab==3.0.7->colabcode) (0.5.1)\n",
            "Building wheels for collected packages: pyngrok\n",
            "  Building wheel for pyngrok (setup.py) ... \u001b[?25l\u001b[?25hdone\n",
            "  Created wheel for pyngrok: filename=pyngrok-5.0.5-cp37-none-any.whl size=19262 sha256=2cada5cb493f98fbc3db7706c70f9aa296aae23a3ac18a1b3962fb1d9e60ff6d\n",
            "  Stored in directory: /root/.cache/pip/wheels/0c/13/64/5ebbcc22eaf53fdf5766b397c1fb17c83f5775fdccf0ea1b88\n",
            "Successfully built pyngrok\n",
            "\u001b[31mERROR: google-colab 1.0.0 has requirement tornado~=5.1.0; python_version >= \"3.0\", but you'll have tornado 6.1 which is incompatible.\u001b[0m\n",
            "Installing collected packages: h11, uvicorn, nest-asyncio, pyngrok, tornado, jupyter-client, requests-unixsocket, sniffio, anyio, websocket-client, jupyter-server, json5, jsonschema, jupyterlab-server, nbclassic, jupyterlab, colabcode\n",
            "  Found existing installation: nest-asyncio 1.5.1\n",
            "    Uninstalling nest-asyncio-1.5.1:\n",
            "      Successfully uninstalled nest-asyncio-1.5.1\n",
            "  Found existing installation: tornado 5.1.1\n",
            "    Uninstalling tornado-5.1.1:\n",
            "      Successfully uninstalled tornado-5.1.1\n",
            "  Found existing installation: jupyter-client 5.3.5\n",
            "    Uninstalling jupyter-client-5.3.5:\n",
            "      Successfully uninstalled jupyter-client-5.3.5\n",
            "  Found existing installation: jsonschema 2.6.0\n",
            "    Uninstalling jsonschema-2.6.0:\n",
            "      Successfully uninstalled jsonschema-2.6.0\n",
            "Successfully installed anyio-3.2.1 colabcode-0.3.0 h11-0.12.0 json5-0.9.6 jsonschema-3.2.0 jupyter-client-6.1.12 jupyter-server-1.9.0 jupyterlab-3.0.7 jupyterlab-server-2.6.1 nbclassic-0.3.1 nest-asyncio-1.4.3 pyngrok-5.0.5 requests-unixsocket-0.2.0 sniffio-1.2.0 tornado-6.1 uvicorn-0.13.1 websocket-client-1.1.0\n"
          ],
          "name": "stdout"
        },
        {
          "output_type": "display_data",
          "data": {
            "application/vnd.colab-display-data+json": {
              "pip_warning": {
                "packages": [
                  "jupyter_client",
                  "tornado"
                ]
              }
            }
          },
          "metadata": {
            "tags": []
          }
        },
        {
          "output_type": "stream",
          "text": [
            "Collecting fastapi\n",
            "\u001b[?25l  Downloading https://files.pythonhosted.org/packages/f8/cb/2682d18ac7a553a0203f48190f474ab6dde6cd8815ac6822a46d611e6661/fastapi-0.66.0-py3-none-any.whl (51kB)\n",
            "\u001b[K     |████████████████████████████████| 61kB 9.4MB/s \n",
            "\u001b[?25hCollecting starlette==0.14.2\n",
            "\u001b[?25l  Downloading https://files.pythonhosted.org/packages/15/34/db1890f442a1cd3a2c761f4109a0eb4e63503218d70a8c8e97faa09a5500/starlette-0.14.2-py3-none-any.whl (60kB)\n",
            "\u001b[K     |████████████████████████████████| 61kB 574kB/s \n",
            "\u001b[?25hRequirement already satisfied: pydantic!=1.7,!=1.7.1,!=1.7.2,!=1.7.3,!=1.8,!=1.8.1,<2.0.0,>=1.6.2 in /usr/local/lib/python3.7/dist-packages (from fastapi) (1.8.2)\n",
            "Requirement already satisfied: typing-extensions>=3.7.4.3 in /usr/local/lib/python3.7/dist-packages (from pydantic!=1.7,!=1.7.1,!=1.7.2,!=1.7.3,!=1.8,!=1.8.1,<2.0.0,>=1.6.2->fastapi) (3.7.4.3)\n",
            "Installing collected packages: starlette, fastapi\n",
            "Successfully installed fastapi-0.66.0 starlette-0.14.2\n"
          ],
          "name": "stdout"
        }
      ]
    },
    {
      "cell_type": "code",
      "metadata": {
        "id": "lXfhgdn2FkSs"
      },
      "source": [
        "import numpy as np"
      ],
      "execution_count": null,
      "outputs": []
    },
    {
      "cell_type": "code",
      "metadata": {
        "colab": {
          "base_uri": "https://localhost:8080/"
        },
        "id": "CNRFATRIG6Jh",
        "outputId": "82ba6141-12e9-4d35-c51c-e0dd655caefa"
      },
      "source": [
        "my_model.predict(np.random.randn(1,48,48,1)).shape"
      ],
      "execution_count": null,
      "outputs": [
        {
          "output_type": "execute_result",
          "data": {
            "text/plain": [
              "(1, 7)"
            ]
          },
          "metadata": {
            "tags": []
          },
          "execution_count": 50
        }
      ]
    },
    {
      "cell_type": "code",
      "metadata": {
        "colab": {
          "base_uri": "https://localhost:8080/"
        },
        "id": "oDqv4yg3JzUE",
        "outputId": "44b4ccd4-9091-4aeb-80bf-f1b46af6d099"
      },
      "source": [
        "np.random.randn(1,7)"
      ],
      "execution_count": null,
      "outputs": [
        {
          "output_type": "execute_result",
          "data": {
            "text/plain": [
              "array([[ 3.09282932, -0.48147191,  0.49059131,  0.98214318,  2.6254032 ,\n",
              "        -0.38305978,  0.64597384]])"
            ]
          },
          "metadata": {
            "tags": []
          },
          "execution_count": 51
        }
      ]
    },
    {
      "cell_type": "code",
      "metadata": {
        "colab": {
          "base_uri": "https://localhost:8080/"
        },
        "id": "ddD7V38FF7FI",
        "outputId": "8ea1547d-4416-4e57-8f3d-053c047c1940"
      },
      "source": [
        "print(np.random.randn(1,48,48,1))"
      ],
      "execution_count": null,
      "outputs": [
        {
          "output_type": "stream",
          "text": [
            "[[[[-1.2749708 ]\n",
            "   [-0.34481946]\n",
            "   [-1.15241206]\n",
            "   ...\n",
            "   [-0.3374982 ]\n",
            "   [-0.92123038]\n",
            "   [ 0.20956138]]\n",
            "\n",
            "  [[-0.45578884]\n",
            "   [ 0.3009767 ]\n",
            "   [ 1.13369955]\n",
            "   ...\n",
            "   [-0.80910939]\n",
            "   [-1.10480897]\n",
            "   [ 1.14918203]]\n",
            "\n",
            "  [[ 1.21713015]\n",
            "   [ 0.83360501]\n",
            "   [ 1.10246516]\n",
            "   ...\n",
            "   [ 0.15597501]\n",
            "   [ 2.00383807]\n",
            "   [-0.50158507]]\n",
            "\n",
            "  ...\n",
            "\n",
            "  [[-0.5854027 ]\n",
            "   [-1.40511748]\n",
            "   [ 0.01515042]\n",
            "   ...\n",
            "   [-0.19917383]\n",
            "   [-1.00123061]\n",
            "   [-0.90194867]]\n",
            "\n",
            "  [[-0.83821604]\n",
            "   [ 0.75033341]\n",
            "   [ 0.19052631]\n",
            "   ...\n",
            "   [ 0.42341579]\n",
            "   [ 0.23766754]\n",
            "   [-0.10114266]]\n",
            "\n",
            "  [[-1.72766437]\n",
            "   [ 0.07861476]\n",
            "   [ 1.22651115]\n",
            "   ...\n",
            "   [ 1.21435192]\n",
            "   [ 1.45015115]\n",
            "   [ 0.00602006]]]]\n"
          ],
          "name": "stdout"
        }
      ]
    },
    {
      "cell_type": "code",
      "metadata": {
        "colab": {
          "base_uri": "https://localhost:8080/"
        },
        "id": "TJY390Y9LLk-",
        "outputId": "af171f6d-327e-4f9a-fffb-262ea8a89bee"
      },
      "source": [
        "!pip install pydantic"
      ],
      "execution_count": null,
      "outputs": [
        {
          "output_type": "stream",
          "text": [
            "Collecting pydantic\n",
            "\u001b[?25l  Downloading https://files.pythonhosted.org/packages/9f/f2/2d5425efe57f6c4e06cbe5e587c1fd16929dcf0eb90bd4d3d1e1c97d1151/pydantic-1.8.2-cp37-cp37m-manylinux2014_x86_64.whl (10.1MB)\n",
            "\u001b[K     |████████████████████████████████| 10.1MB 23.0MB/s \n",
            "\u001b[?25hRequirement already satisfied: typing-extensions>=3.7.4.3 in /usr/local/lib/python3.7/dist-packages (from pydantic) (3.7.4.3)\n",
            "Installing collected packages: pydantic\n",
            "Successfully installed pydantic-1.8.2\n"
          ],
          "name": "stdout"
        }
      ]
    },
    {
      "cell_type": "code",
      "metadata": {
        "colab": {
          "base_uri": "https://localhost:8080/"
        },
        "id": "Pjv6azGxPnaw",
        "outputId": "fb810699-278b-4fd3-b717-92e45f364454"
      },
      "source": [
        "np.array([])"
      ],
      "execution_count": null,
      "outputs": [
        {
          "output_type": "execute_result",
          "data": {
            "text/plain": [
              "array([], dtype=float64)"
            ]
          },
          "metadata": {
            "tags": []
          },
          "execution_count": 79
        }
      ]
    },
    {
      "cell_type": "code",
      "metadata": {
        "id": "VJStda2O52DY"
      },
      "source": [
        "from pydantic import BaseModel\n",
        "class Music(BaseModel):\n",
        "  class config:\n",
        "    schema_extra = {\n",
        "            \"example\": {\n",
        "                'image' : np.random.randn(1,48,48,1),\n",
        "                'output': np.random.randn(1,7)\n",
        "                \n",
        "            }\n",
        "        }"
      ],
      "execution_count": null,
      "outputs": []
    },
    {
      "cell_type": "code",
      "metadata": {
        "id": "PKXQJ9EHKtR1"
      },
      "source": [
        "from fastapi import FastAPI\n",
        "app = FastAPI()\n",
        "\n",
        "@app.on_event(\"startup\")\n",
        "def load_model():\n",
        "    global model\n",
        "    model = keras.models.load_model(\"/content/drive/MyDrive/kaggle\")\n",
        "\n",
        "@app.get('/')\n",
        "def index():\n",
        "    return {'message': 'This is the homepage of the API '}\n",
        "@app.get('/predict')\n",
        "def predict(data:Music):\n",
        "  recieved = data.dict()\n",
        "  image = recieved['image']\n",
        "  output = recieved['output']\n",
        "  pred = model.predict(image)\n",
        "  return {'Prediction':pred}\n"
      ],
      "execution_count": null,
      "outputs": []
    },
    {
      "cell_type": "code",
      "metadata": {
        "id": "UtE69oq2MP6H"
      },
      "source": [
        "from colabcode import ColabCode\n",
        "server = ColabCode(port=10000, code=False)"
      ],
      "execution_count": null,
      "outputs": []
    },
    {
      "cell_type": "code",
      "metadata": {
        "colab": {
          "base_uri": "https://localhost:8080/"
        },
        "id": "gXzbN9EqMjnW",
        "outputId": "0ea6a5de-cd36-402a-a8e0-28e869d13774"
      },
      "source": [
        "server.run_app(app=app)"
      ],
      "execution_count": null,
      "outputs": [
        {
          "output_type": "stream",
          "text": [
            "Public URL: NgrokTunnel: \"https://642fc6336a69.ngrok.io\" -> \"http://localhost:10000\"\n"
          ],
          "name": "stdout"
        },
        {
          "output_type": "stream",
          "text": [
            "INFO:     Started server process [63]\n",
            "INFO:     Waiting for application startup.\n",
            "INFO:     Application startup complete.\n",
            "INFO:     Uvicorn running on http://127.0.0.1:10000 (Press CTRL+C to quit)\n"
          ],
          "name": "stderr"
        },
        {
          "output_type": "stream",
          "text": [
            "INFO:     157.41.155.145:0 - \"GET / HTTP/1.1\" 200 OK\n",
            "INFO:     157.41.155.145:0 - \"GET /favicon.ico HTTP/1.1\" 404 Not Found\n",
            "INFO:     157.41.155.145:0 - \"GET /predict HTTP/1.1\" 422 Unprocessable Entity\n"
          ],
          "name": "stdout"
        },
        {
          "output_type": "stream",
          "text": [
            "INFO:     Shutting down\n",
            "INFO:     Waiting for application shutdown.\n",
            "INFO:     Application shutdown complete.\n",
            "INFO:     Finished server process [63]\n"
          ],
          "name": "stderr"
        }
      ]
    },
    {
      "cell_type": "code",
      "metadata": {
        "id": "PMk4Q5bxMlgb"
      },
      "source": [
        ""
      ],
      "execution_count": null,
      "outputs": []
    }
  ]
}